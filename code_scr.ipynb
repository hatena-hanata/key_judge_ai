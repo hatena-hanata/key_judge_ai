{
 "cells": [
  {
   "cell_type": "code",
   "execution_count": 39,
   "metadata": {},
   "outputs": [],
   "source": [
    "from bs4 import BeautifulSoup\n",
    "import requests"
   ]
  },
  {
   "cell_type": "code",
   "execution_count": 40,
   "metadata": {},
   "outputs": [],
   "source": [
    "url = 'https://music.j-total.net/data/028fu/044_flumpool/028.html'"
   ]
  },
  {
   "cell_type": "code",
   "execution_count": 41,
   "metadata": {},
   "outputs": [],
   "source": [
    "r = requests.get(url)\n",
    "soup = BeautifulSoup(r.content, 'html.parser')"
   ]
  },
  {
   "cell_type": "code",
   "execution_count": 10,
   "metadata": {},
   "outputs": [],
   "source": [
    "origin = soup.find_all('font', size='3')[-1]"
   ]
  },
  {
   "cell_type": "code",
   "execution_count": 15,
   "metadata": {},
   "outputs": [
    {
     "data": {
      "text/plain": [
       "'C#'"
      ]
     },
     "execution_count": 15,
     "metadata": {},
     "output_type": "execute_result"
    }
   ],
   "source": [
    "origin.text.split(' ')[1].split('：')[-1]"
   ]
  },
  {
   "cell_type": "code",
   "execution_count": 42,
   "metadata": {},
   "outputs": [],
   "source": [
    "kasi = soup.find('tt')"
   ]
  },
  {
   "cell_type": "code",
   "execution_count": 43,
   "metadata": {},
   "outputs": [],
   "source": [
    "code_lst = kasi.find_all('a')"
   ]
  },
  {
   "cell_type": "code",
   "execution_count": 64,
   "metadata": {},
   "outputs": [
    {
     "data": {
      "text/plain": [
       "'C#/Db'"
      ]
     },
     "execution_count": 64,
     "metadata": {},
     "output_type": "execute_result"
    }
   ],
   "source": [
    "def convert(code, num):\n",
    "    lst = ['C', 'C#/Db', 'D', 'D#/Eb', 'E', 'F', 'F#/Gb', 'G', 'G#/Ab', 'A', 'A#/Bb', 'B']\n",
    "    next_i = -100\n",
    "    if len(code) > 1:\n",
    "        if code[1] == '#' or code[1] == '♭':\n",
    "            code = code[0:2]\n",
    "        else:\n",
    "            code = code[0]\n",
    "    else:\n",
    "        code = code[0]\n",
    "    for index, c in enumerate(lst):\n",
    "        if len(c) != 1:\n",
    "            c1 = c.split('/')[0]\n",
    "            c2 = c.split('/')[1]\n",
    "            if code == c1:\n",
    "                next_i = index + num\n",
    "                break\n",
    "            elif code == c2:\n",
    "                next_i = index + num\n",
    "                break\n",
    "        else:\n",
    "            if code == c:\n",
    "                next_i = index + num\n",
    "                break\n",
    "    if next_i == -100:\n",
    "        return 'error'\n",
    "                \n",
    "    return lst[next_i % 12]\n",
    "\n",
    "convert('C', 1)"
   ]
  },
  {
   "cell_type": "code",
   "execution_count": 101,
   "metadata": {},
   "outputs": [],
   "source": [
    "import pandas as pd\n",
    "\n",
    "\n",
    "# 音階のクラス\n",
    "class Note:\n",
    "    name_lst = ['C', 'C#/D♭', 'D', 'D#/E♭', 'E', 'F', 'F#/G♭', 'G', 'G#/A♭', 'A', 'A#/B♭', 'B']\n",
    "\n",
    "    def __init__(self, s):\n",
    "        if len(s) == 1:\n",
    "            self.name = s\n",
    "        else:\n",
    "            for index, c in enumerate(Note.name_lst):\n",
    "                if len(c) != 1:\n",
    "                    c_split = c.split('/')\n",
    "                    if s in c_split:\n",
    "                        self.name = c\n",
    "\n",
    "    def __str__(self):\n",
    "        return self.name\n",
    "\n",
    "\n",
    "class Chord:\n",
    "    # s = 'Dm7' など受け取る\n",
    "    def __init__(self, s):\n",
    "        # コードのルート音\n",
    "        if len(s) == 1:\n",
    "            self.root = Note(s)\n",
    "        else:\n",
    "            if s[1] == '#' or s[1] == '♭':\n",
    "                self.root = Note(s[0:2])\n",
    "            else:\n",
    "                self.root = Note(s[0])\n",
    "\n",
    "        # コードがメジャーかマイナーか\n",
    "        if 'm' in s:\n",
    "            self.is_major = False\n",
    "        else:\n",
    "            self.is_major = True\n",
    "\n",
    "    def __str__(self):\n",
    "        if self.is_major:\n",
    "            return '{}_Major'.format(self.root.name)\n",
    "        else:\n",
    "            return '{}_minor'.format(self.root.name)\n",
    "\n",
    "\n",
    "class Song:\n",
    "    def __init__(self, name, key):\n",
    "        \"\"\"\n",
    "        コンストラクタ\n",
    "        :param name: str\n",
    "        :param key: Noteのインスタンス\n",
    "        \"\"\"\n",
    "        # 曲名\n",
    "        self.name = name\n",
    "        self.chord_count_dict = {\n",
    "            'name': name,\n",
    "            'key' : key,\n",
    "            'C_Major': 0,\n",
    "            'C_minor': 0,\n",
    "            'C#/D♭_Major': 0,\n",
    "            'C#/D♭_minor': 0,\n",
    "            'D_Major': 0,\n",
    "            'D_minor': 0,\n",
    "            'D#/E♭_Major': 0,\n",
    "            'D#/E♭_minor': 0,\n",
    "            'E_Major': 0,\n",
    "            'E_minor': 0,\n",
    "            'F_Major': 0,\n",
    "            'F_minor': 0,\n",
    "            'F#/G♭_Major': 0,\n",
    "            'F#/G♭_minor': 0,\n",
    "            'G_Major': 0,\n",
    "            'G_minor': 0,\n",
    "            'G#/A♭_Major': 0,\n",
    "            'G#/A♭_minor': 0,\n",
    "            'A_Major': 0,\n",
    "            'A_minor': 0,\n",
    "            'A#/B♭_Major': 0,\n",
    "            'A#/B♭_minor': 0,\n",
    "            'B_Major': 0,\n",
    "            'B_minor': 0,\n",
    "        }\n",
    "        self.original_key = key\n",
    "\n",
    "    def append_chord(self, c):\n",
    "        self.chord_count_dict[str(c)] += 1\n",
    "\n",
    "    def to_DataFrame(self):\n",
    "        return pd.DataFrame.from_dict(self.chord_count_dict, orient='index').T\n"
   ]
  },
  {
   "cell_type": "code",
   "execution_count": 104,
   "metadata": {},
   "outputs": [],
   "source": [
    "test_song = Song('夏よ', Note('C'))\n",
    "for i,c in enumerate(code_lst):\n",
    "    chord = Chord(c.text)\n",
    "    test_song.append_chord(chord)"
   ]
  },
  {
   "cell_type": "code",
   "execution_count": 108,
   "metadata": {},
   "outputs": [],
   "source": [
    "a = test_song.to_DataFrame()"
   ]
  },
  {
   "cell_type": "code",
   "execution_count": 110,
   "metadata": {},
   "outputs": [],
   "source": [
    "a.to_csv('test.csv')"
   ]
  },
  {
   "cell_type": "code",
   "execution_count": 98,
   "metadata": {},
   "outputs": [],
   "source": [
    "dic1 = {'name':'hoge', 'a':5, 'b':9, 'c':8}\n",
    "dic2 = {'name':'fuga', 'a':100, 'b':800, 'c':700}"
   ]
  },
  {
   "cell_type": "code",
   "execution_count": 86,
   "metadata": {},
   "outputs": [],
   "source": [
    "import pandas as pd\n",
    "s1 = pd.DataFrame.from_dict(dic1, orient='index').T\n",
    "s2 = pd.DataFrame.from_dict(dic2, orient='index').T"
   ]
  },
  {
   "cell_type": "code",
   "execution_count": 93,
   "metadata": {},
   "outputs": [],
   "source": [
    "df = pd.DataFrame()"
   ]
  },
  {
   "cell_type": "code",
   "execution_count": 95,
   "metadata": {},
   "outputs": [
    {
     "data": {
      "text/html": [
       "<div>\n",
       "<style scoped>\n",
       "    .dataframe tbody tr th:only-of-type {\n",
       "        vertical-align: middle;\n",
       "    }\n",
       "\n",
       "    .dataframe tbody tr th {\n",
       "        vertical-align: top;\n",
       "    }\n",
       "\n",
       "    .dataframe thead th {\n",
       "        text-align: right;\n",
       "    }\n",
       "</style>\n",
       "<table border=\"1\" class=\"dataframe\">\n",
       "  <thead>\n",
       "    <tr style=\"text-align: right;\">\n",
       "      <th></th>\n",
       "      <th>name</th>\n",
       "      <th>a</th>\n",
       "      <th>b</th>\n",
       "      <th>c</th>\n",
       "    </tr>\n",
       "  </thead>\n",
       "  <tbody>\n",
       "    <tr>\n",
       "      <th>0</th>\n",
       "      <td>hoge</td>\n",
       "      <td>5</td>\n",
       "      <td>9</td>\n",
       "      <td>8</td>\n",
       "    </tr>\n",
       "    <tr>\n",
       "      <th>0</th>\n",
       "      <td>fuga</td>\n",
       "      <td>100</td>\n",
       "      <td>800</td>\n",
       "      <td>700</td>\n",
       "    </tr>\n",
       "  </tbody>\n",
       "</table>\n",
       "</div>"
      ],
      "text/plain": [
       "   name    a    b    c\n",
       "0  hoge    5    9    8\n",
       "0  fuga  100  800  700"
      ]
     },
     "execution_count": 95,
     "metadata": {},
     "output_type": "execute_result"
    }
   ],
   "source": [
    "df = df.append(s2)\n",
    "df"
   ]
  },
  {
   "cell_type": "code",
   "execution_count": 96,
   "metadata": {},
   "outputs": [],
   "source": [
    "lst = ['C', 'C#/D♭', 'D', 'D#/E♭', 'E', 'F', 'F#/G♭', 'G', 'G#/A♭', 'A', 'A#/B♭', 'B']"
   ]
  },
  {
   "cell_type": "code",
   "execution_count": 97,
   "metadata": {},
   "outputs": [
    {
     "name": "stdout",
     "output_type": "stream",
     "text": [
      "'C_Major' : 0,\n",
      "'C_minor' : 0,\n",
      "'C#/D♭_Major' : 0,\n",
      "'C#/D♭_minor' : 0,\n",
      "'D_Major' : 0,\n",
      "'D_minor' : 0,\n",
      "'D#/E♭_Major' : 0,\n",
      "'D#/E♭_minor' : 0,\n",
      "'E_Major' : 0,\n",
      "'E_minor' : 0,\n",
      "'F_Major' : 0,\n",
      "'F_minor' : 0,\n",
      "'F#/G♭_Major' : 0,\n",
      "'F#/G♭_minor' : 0,\n",
      "'G_Major' : 0,\n",
      "'G_minor' : 0,\n",
      "'G#/A♭_Major' : 0,\n",
      "'G#/A♭_minor' : 0,\n",
      "'A_Major' : 0,\n",
      "'A_minor' : 0,\n",
      "'A#/B♭_Major' : 0,\n",
      "'A#/B♭_minor' : 0,\n",
      "'B_Major' : 0,\n",
      "'B_minor' : 0,\n"
     ]
    }
   ],
   "source": [
    "for c in lst:\n",
    "    print(\"'{}_Major' : 0,\".format(c))\n",
    "    print(\"'{}_minor' : 0,\".format(c))"
   ]
  },
  {
   "cell_type": "code",
   "execution_count": null,
   "metadata": {},
   "outputs": [],
   "source": []
  },
  {
   "cell_type": "code",
   "execution_count": null,
   "metadata": {},
   "outputs": [],
   "source": []
  },
  {
   "cell_type": "code",
   "execution_count": null,
   "metadata": {},
   "outputs": [],
   "source": []
  },
  {
   "cell_type": "code",
   "execution_count": null,
   "metadata": {},
   "outputs": [],
   "source": []
  },
  {
   "cell_type": "code",
   "execution_count": null,
   "metadata": {},
   "outputs": [],
   "source": []
  },
  {
   "cell_type": "code",
   "execution_count": null,
   "metadata": {},
   "outputs": [],
   "source": []
  },
  {
   "cell_type": "code",
   "execution_count": null,
   "metadata": {},
   "outputs": [],
   "source": []
  }
 ],
 "metadata": {
  "kernelspec": {
   "display_name": "Python 3",
   "language": "python",
   "name": "python3"
  },
  "language_info": {
   "codemirror_mode": {
    "name": "ipython",
    "version": 3
   },
   "file_extension": ".py",
   "mimetype": "text/x-python",
   "name": "python",
   "nbconvert_exporter": "python",
   "pygments_lexer": "ipython3",
   "version": "3.7.3"
  }
 },
 "nbformat": 4,
 "nbformat_minor": 2
}
